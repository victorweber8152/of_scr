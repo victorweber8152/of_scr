{
 "cells": [
  {
   "cell_type": "code",
   "execution_count": 1,
   "metadata": {},
   "outputs": [
    {
     "name": "stdout",
     "output_type": "stream",
     "text": [
      "Requirement already satisfied: fuzzymatcher in /Users/victorweber/opt/anaconda3/lib/python3.8/site-packages (0.0.5)\n",
      "Requirement already satisfied: python-dateutil in /Users/victorweber/opt/anaconda3/lib/python3.8/site-packages (from fuzzymatcher) (2.8.1)\n",
      "Requirement already satisfied: python-Levenshtein in /Users/victorweber/opt/anaconda3/lib/python3.8/site-packages (from fuzzymatcher) (0.12.0)\n",
      "Requirement already satisfied: fuzzywuzzy in /Users/victorweber/opt/anaconda3/lib/python3.8/site-packages (from fuzzymatcher) (0.18.0)\n",
      "Requirement already satisfied: pandas in /Users/victorweber/opt/anaconda3/lib/python3.8/site-packages (from fuzzymatcher) (1.3.4)\n",
      "Requirement already satisfied: metaphone in /Users/victorweber/opt/anaconda3/lib/python3.8/site-packages (from fuzzymatcher) (0.6)\n",
      "Requirement already satisfied: six>=1.5 in /Users/victorweber/opt/anaconda3/lib/python3.8/site-packages (from python-dateutil->fuzzymatcher) (1.16.0)\n",
      "Requirement already satisfied: setuptools in /Users/victorweber/opt/anaconda3/lib/python3.8/site-packages (from python-Levenshtein->fuzzymatcher) (58.0.4)\n",
      "Requirement already satisfied: pytz>=2017.3 in /Users/victorweber/opt/anaconda3/lib/python3.8/site-packages (from pandas->fuzzymatcher) (2021.3)\n",
      "Requirement already satisfied: numpy>=1.17.3 in /Users/victorweber/opt/anaconda3/lib/python3.8/site-packages (from pandas->fuzzymatcher) (1.21.4)\n"
     ]
    }
   ],
   "source": [
    "!pip install fuzzymatcher"
   ]
  },
  {
   "cell_type": "code",
   "execution_count": 2,
   "metadata": {},
   "outputs": [],
   "source": [
    "import pandas as pd\n",
    "from pathlib import Path\n",
    "import fuzzymatcher"
   ]
  },
  {
   "cell_type": "code",
   "execution_count": 3,
   "metadata": {},
   "outputs": [],
   "source": [
    "folder_path = '/Users/victorweber/Desktop/Adressabgleich_2022/'\n",
    "ofrex = pd.read_excel(f'{folder_path}ofrex.xlsx')\n",
    "afa = pd.read_excel(f'{folder_path}afa.xlsx')"
   ]
  },
  {
   "cell_type": "code",
   "execution_count": 4,
   "metadata": {},
   "outputs": [],
   "source": [
    "ofrex['match_1'] = (ofrex['Name (W1)'] + ofrex['Strasse (W4)'] + ofrex['PLZ'] + ofrex['Ort (W5)']).astype(str).map(lambda x: x.lower())\n",
    "ofrex['match_2'] = (ofrex['Name (W1)']).astype(str).map(lambda x: x.lower())\n",
    "afa['match_1'] = (afa['Nom 1'] + afa['Adresse'] + afa['Format adresse']).astype(str).map(lambda x: x.lower())\n",
    "afa['match_2'] = (afa['Nom 1']).astype(str).map(lambda x: x.lower())\n"
   ]
  },
  {
   "cell_type": "code",
   "execution_count": 5,
   "metadata": {},
   "outputs": [],
   "source": [
    "#Think before running! (>6 mins for 50kx2k matrices)\n",
    "left_on = ['match_1']\n",
    "right_on = ['match_1']\n",
    "matched_results = fuzzymatcher.fuzzy_left_join(ofrex, afa, left_on, right_on)"
   ]
  },
  {
   "cell_type": "code",
   "execution_count": 29,
   "metadata": {},
   "outputs": [],
   "source": [
    "matched_results = matched_results.sort_values(by = 'best_match_score', ascending = False)\n",
    "matched_results_cleaned = matched_results[['best_match_score', 'AdrNr.', 'Name (W1)', 'Strasse (W4)', 'PLZ', 'Ort (W5)', 'Nom 1', 'Adresse', 'Format adresse', \"Chiffre d'affaire (a.p.)\"]]\n",
    "matched_results_cleaned = matched_results_cleaned[(matched_results_cleaned.best_match_score >= 0.67)]"
   ]
  },
  {
   "cell_type": "code",
   "execution_count": 8,
   "metadata": {},
   "outputs": [],
   "source": [
    "#Think before running! (>2 mins for 50kx2k matrices)\n",
    "left_on = ['match_2']\n",
    "right_on = ['match_2']\n",
    "matched_results_2 = fuzzymatcher.fuzzy_left_join(ofrex, afa, left_on, right_on)"
   ]
  },
  {
   "cell_type": "code",
   "execution_count": 32,
   "metadata": {},
   "outputs": [],
   "source": [
    "\n",
    "matched_results_2.sort_values(by = 'best_match_score', ascending = False)\n",
    "matched_results_cleaned_2 = matched_results_2[['best_match_score', 'AdrNr.', 'Name (W1)', 'Strasse (W4)', 'PLZ', 'Ort (W5)', 'Nom 1', 'Adresse', 'Format adresse', \"Chiffre d'affaire (a.p.)\"]]\n",
    "matched_results_cleaned_2 = matched_results_cleaned_2.sort_values(by = 'best_match_score', ascending = False)\n",
    "matched_results_cleaned_2 = matched_results_cleaned_2[(matched_results_cleaned_2.best_match_score >= 0.42)]\n",
    "matched_results_appended = matched_results_cleaned.append(matched_results_cleaned_2)\n",
    "matched_results_appended = matched_results_appended.drop_duplicates(subset = ['AdrNr.'])"
   ]
  },
  {
   "cell_type": "code",
   "execution_count": 33,
   "metadata": {},
   "outputs": [],
   "source": [
    "matched_results_appended.to_excel(f'{folder_path}ofrex_afa_match.xlsx', engine='xlsxwriter')"
   ]
  },
  {
   "cell_type": "code",
   "execution_count": 34,
   "metadata": {},
   "outputs": [
    {
     "data": {
      "text/plain": [
       "221"
      ]
     },
     "execution_count": 34,
     "metadata": {},
     "output_type": "execute_result"
    }
   ],
   "source": []
  },
  {
   "cell_type": "code",
   "execution_count": null,
   "metadata": {},
   "outputs": [],
   "source": []
  }
 ],
 "metadata": {
  "interpreter": {
   "hash": "eb27f6ea0b1dd431c048c476cf455b7e320ac3f86e41ac9226fb6e5a38149e35"
  },
  "kernelspec": {
   "display_name": "Python 3.9.7 64-bit ('prophet39': conda)",
   "language": "python",
   "name": "python3"
  },
  "language_info": {
   "codemirror_mode": {
    "name": "ipython",
    "version": 3
   },
   "file_extension": ".py",
   "mimetype": "text/x-python",
   "name": "python",
   "nbconvert_exporter": "python",
   "pygments_lexer": "ipython3",
   "version": "3.8.3"
  },
  "orig_nbformat": 4
 },
 "nbformat": 4,
 "nbformat_minor": 2
}
