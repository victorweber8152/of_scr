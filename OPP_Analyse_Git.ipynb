{
 "cells": [
  {
   "cell_type": "code",
   "execution_count": 249,
   "metadata": {},
   "outputs": [
    {
     "name": "stdout",
     "output_type": "stream",
     "text": [
      "Requirement already satisfied: pyodbc in c:\\users\\victorweber\\anaconda3\\lib\\site-packages (4.0.0-unsupported)\n",
      "^C\n"
     ]
    }
   ],
   "source": [
    "%pip install pyodbc"
   ]
  },
  {
   "cell_type": "code",
   "execution_count": 254,
   "metadata": {},
   "outputs": [
    {
     "name": "stdout",
     "output_type": "stream",
     "text": [
      "Requirement already satisfied: plotly==5.6.0 in c:\\users\\victorweber\\anaconda3\\lib\\site-packages (5.6.0)\n",
      "Requirement already satisfied: tenacity>=6.2.0 in c:\\users\\victorweber\\anaconda3\\lib\\site-packages (from plotly==5.6.0) (8.0.1)\n",
      "Requirement already satisfied: six in c:\\users\\victorweber\\anaconda3\\lib\\site-packages (from plotly==5.6.0) (1.15.0)\n",
      "Note: you may need to restart the kernel to use updated packages.\n"
     ]
    }
   ],
   "source": [
    "%pip install plotly==5.6.0"
   ]
  },
  {
   "cell_type": "code",
   "execution_count": 330,
   "metadata": {},
   "outputs": [],
   "source": [
    "import pyodbc\n",
    "import pandas as pd\n",
    "import numpy as np\n",
    "import plotly.express as px\n",
    "import plotly.graph_objects as go\n",
    "from plotly.subplots import make_subplots"
   ]
  },
  {
   "cell_type": "code",
   "execution_count": 27,
   "metadata": {},
   "outputs": [],
   "source": [
    "conn = pyodbc.connect('#see pyodbc documentation')"
   ]
  },
  {
   "cell_type": "code",
   "execution_count": 28,
   "metadata": {},
   "outputs": [],
   "source": [
    "#think before running (download time > 6 min)\n",
    "cursor = conn.cursor()\n",
    "query = \"SELECT * FROM table\"\n",
    "df = pd.read_sql(query, conn)"
   ]
  },
  {
   "cell_type": "code",
   "execution_count": 29,
   "metadata": {},
   "outputs": [],
   "source": [
    "#df.to_csv('year_to_date.csv')\n",
    "#df = pd.read_csv('year_to_date.csv')"
   ]
  },
  {
   "cell_type": "code",
   "execution_count": 359,
   "metadata": {},
   "outputs": [],
   "source": [
    "df_opp = pd.read_excel('OPP_unique.xlsx')"
   ]
  },
  {
   "cell_type": "code",
   "execution_count": 360,
   "metadata": {},
   "outputs": [],
   "source": [
    "df_opp['ArtNr'] = df_opp['ArtNr'].astype('int64')"
   ]
  },
  {
   "cell_type": "code",
   "execution_count": 361,
   "metadata": {},
   "outputs": [
    {
     "name": "stderr",
     "output_type": "stream",
     "text": [
      "<ipython-input-361-daad71331ab7>:2: SettingWithCopyWarning:\n",
      "\n",
      "\n",
      "A value is trying to be set on a copy of a slice from a DataFrame.\n",
      "Try using .loc[row_indexer,col_indexer] = value instead\n",
      "\n",
      "See the caveats in the documentation: https://pandas.pydata.org/pandas-docs/stable/user_guide/indexing.html#returning-a-view-versus-a-copy\n",
      "\n",
      "<ipython-input-361-daad71331ab7>:3: SettingWithCopyWarning:\n",
      "\n",
      "\n",
      "A value is trying to be set on a copy of a slice from a DataFrame.\n",
      "Try using .loc[row_indexer,col_indexer] = value instead\n",
      "\n",
      "See the caveats in the documentation: https://pandas.pydata.org/pandas-docs/stable/user_guide/indexing.html#returning-a-view-versus-a-copy\n",
      "\n"
     ]
    }
   ],
   "source": [
    "df2 = df[(df['DokDatum'] > '2021-01-01') & (df['DokDatum'] < '2022-03-31')]\n",
    "df2['DokDatum'] = pd.to_datetime(df2['DokDatum'], format = '%Y-%m-%d')\n",
    "df2['YYYY_MM'] = pd.to_datetime(df2['DokDatum']).dt.strftime('%Y-%m')"
   ]
  },
  {
   "cell_type": "code",
   "execution_count": 362,
   "metadata": {},
   "outputs": [],
   "source": [
    "df3 = df2[df2['DokStufe'] == '4']"
   ]
  },
  {
   "cell_type": "code",
   "execution_count": 363,
   "metadata": {},
   "outputs": [],
   "source": [
    "df4 = df3[df3['Artikelnummer'].str.isnumeric()]\n",
    "df6 = df3[df3['Artikelnummer'].str.isnumeric() == False]"
   ]
  },
  {
   "cell_type": "code",
   "execution_count": 364,
   "metadata": {},
   "outputs": [
    {
     "name": "stderr",
     "output_type": "stream",
     "text": [
      "<ipython-input-364-c9d6e7f406a7>:1: SettingWithCopyWarning:\n",
      "\n",
      "\n",
      "A value is trying to be set on a copy of a slice from a DataFrame.\n",
      "Try using .loc[row_indexer,col_indexer] = value instead\n",
      "\n",
      "See the caveats in the documentation: https://pandas.pydata.org/pandas-docs/stable/user_guide/indexing.html#returning-a-view-versus-a-copy\n",
      "\n"
     ]
    }
   ],
   "source": [
    "df4['Artikelnummer'] = df4['Artikelnummer'].astype('int64')"
   ]
  },
  {
   "cell_type": "code",
   "execution_count": 365,
   "metadata": {},
   "outputs": [],
   "source": [
    "df5 = df4.merge(df_opp, how = 'left', left_on = 'Artikelnummer', right_on = 'ArtNr')"
   ]
  },
  {
   "cell_type": "code",
   "execution_count": 366,
   "metadata": {},
   "outputs": [],
   "source": [
    "df5_opp = df4.merge(df_opp, how = 'inner', left_on = 'Artikelnummer', right_on = 'ArtNr')"
   ]
  },
  {
   "cell_type": "code",
   "execution_count": 367,
   "metadata": {},
   "outputs": [],
   "source": [
    "df5['DokDatum'] = pd.to_datetime(df5['DokDatum'], format = '%Y-%m-%d')"
   ]
  },
  {
   "cell_type": "code",
   "execution_count": 368,
   "metadata": {},
   "outputs": [],
   "source": [
    "df7 = df5.append(df6)"
   ]
  },
  {
   "cell_type": "code",
   "execution_count": 369,
   "metadata": {},
   "outputs": [],
   "source": [
    "df7['OPP'] = df7['OPP'].fillna('Non_OPP')"
   ]
  },
  {
   "cell_type": "code",
   "execution_count": 370,
   "metadata": {},
   "outputs": [],
   "source": [
    "df7_non_OPP = df7[df7['OPP'] =='Non_OPP']"
   ]
  },
  {
   "cell_type": "code",
   "execution_count": 371,
   "metadata": {},
   "outputs": [],
   "source": [
    "df8 = pd.pivot_table(df7,index=['DokADSachbearbeiterName', 'OPP'], values = ['UmsatzMIs', 'DBCHFMIS'], aggfunc = np.sum)"
   ]
  },
  {
   "cell_type": "code",
   "execution_count": 372,
   "metadata": {},
   "outputs": [],
   "source": [
    "df8['DB%'] = df8['DBCHFMIS'] / df8['UmsatzMIs'] "
   ]
  },
  {
   "cell_type": "code",
   "execution_count": 394,
   "metadata": {},
   "outputs": [],
   "source": [
    "df8.to_excel('aussendienst_opp_analysis.xlsx')"
   ]
  },
  {
   "cell_type": "code",
   "execution_count": 374,
   "metadata": {},
   "outputs": [],
   "source": [
    "df9 = pd.pivot_table(df5_opp,index=['Artikelnummer', 'Art.Bezeichnung'], values = ['UmsatzMIs', 'DBCHFMIS'], aggfunc = np.sum)"
   ]
  },
  {
   "cell_type": "code",
   "execution_count": 375,
   "metadata": {},
   "outputs": [],
   "source": [
    "df9['DB%'] = df9['DBCHFMIS'] / df9['UmsatzMIs']"
   ]
  },
  {
   "cell_type": "code",
   "execution_count": 377,
   "metadata": {},
   "outputs": [
    {
     "data": {
      "application/vnd.plotly.v1+json": {
       "config": {
        "plotlyServerURL": "https://plot.ly"
       },
       "data": [
        {
         "hovertemplate": "UmsatzMIs=%{x}<br>DB%=%{y}<extra></extra>",
         "legendgroup": "",
         "marker": {
          "color": "#636efa",
          "symbol": "circle"
         },
         "mode": "markers",
         "name": "",
         "orientation": "v",
         "showlegend": false,
         "type": "scatter",
         "x": [
          312758.3000000005,
          309362.4999999996,
          276815.3799999993,
          242956.59999999995,
          218974,
          170501.39999999973,
          115081.69999999987,
          103339.15000000014,
          101206.71999999933,
          95478.11999999925,
          92066.05000000009,
          91859.94000000041,
          87312.16000000006,
          86886.45,
          82810.66999999985,
          80608.7000000002,
          74431.20000000003,
          71707.80000000013,
          69526.19999999975,
          67088.29999999997,
          65217.699999999786,
          62819.50000000016,
          61820.64999999997,
          61468.5,
          61011.55000000009,
          58607.900000000154,
          56191.80000000054,
          55721.20000000029,
          54315.5,
          54223.40000000007,
          54212.54999999997,
          53592.40000000001,
          51887.59999999997,
          51824.84999999994,
          46150.96999999994,
          45850.45,
          45348.50000000001,
          44878.14999999998,
          43896.000000000015,
          40548.14999999996,
          40210.470000000045,
          39875.66000000002,
          39421.87999999997,
          39355.399999999965,
          33853.039999999986,
          32344.000000000007,
          32264.099999999995,
          31969.89999999994,
          28740.00000000004,
          27989.200000000103,
          27758.44999999999,
          27196.099999999995,
          26997.600000000002,
          26662.85000000001,
          25998.500000000036,
          25309.75000000002,
          24852.6,
          24289.699999999968,
          23450.69999999993,
          23026.270000000015,
          22876.449999999997,
          22432.21,
          21880.049999999963,
          21727.50000000001,
          21691.70000000001,
          21148.99999999999,
          20776.739999999998,
          20696.149999999983,
          20590.049999999977,
          20358.700000000033,
          20273.5,
          19515.950000000008,
          18945.400000000005,
          18866.869999999984,
          18474.599999999948,
          18402.75,
          18354.7,
          18005.65000000001,
          17723.449999999917,
          16672.900000000005,
          16406.10000000001,
          15747.749999999918,
          15723.940000000008,
          15451.14999999999,
          15335.649999999998,
          15320.040000000055,
          15318.299999999985,
          15114.249999999933,
          14964.549999999996,
          14848.049999999996,
          13884.049999999997,
          13740.510000000018,
          13729.85,
          13571.050000000021,
          13507.100000000002,
          13361.850000000008,
          13351.099999999986,
          13332.7,
          12469.600000000002,
          12119.100000000011,
          12073.399999999998,
          12031.299999999992,
          11703.840000000011,
          11547.100000000002,
          11427.199999999992,
          11340.259999999998,
          10981.050000000001,
          10898.550000000001,
          10745.950000000004,
          10416.099999999995,
          10156.339999999995,
          9981.65000000001,
          9930.100000000006,
          9539.449999999983,
          9326.34999999999,
          9310.999999999996,
          9240.949999999992,
          9183.350000000008,
          8489.6,
          8303.150000000001,
          8248.299999999996,
          8049.910000000009,
          8011.950000000019,
          7753.600000000015,
          7597.849999999991,
          7524.450000000003,
          7431.3499999999985,
          7071.199999999993,
          6699.550000000007,
          6618.060000000005,
          6549.849999999992,
          6334.399999999996,
          6304.299999999999,
          6159.800000000002,
          5576.949999999995,
          5534.900000000009,
          5515.809999999995,
          5400.45,
          5344.250000000005,
          4940.800000000003,
          4685.949999999992,
          4658.2,
          4636.2499999999945,
          4603.799999999999,
          4547.800000000001,
          4482.699999999998,
          4388.550000000001,
          3984.670000000001,
          3866.7000000000003,
          3745.0400000000004,
          3734.7500000000005,
          3716.9000000000005,
          3671.5000000000014,
          3671.4499999999994,
          3523.5,
          3254.1499999999987,
          3183.6000000000004,
          3121.449999999997,
          3058.3999999999983,
          2928.6499999999996,
          2920.5000000000005,
          2908.85,
          2777.099999999999,
          2732.499999999999,
          2707.999999999999,
          2410.550000000001,
          2340.949999999999,
          2271.8499999999985,
          1945.549999999999,
          1886.4,
          1849.6000000000001,
          1828.7999999999997,
          1773.2,
          1682.7000000000005,
          1647.15,
          1643.1,
          1555.9,
          1387.5,
          1367.1000000000004,
          1333.65,
          1244.4000000000003,
          1225,
          1151.3,
          833,
          641.0999999999999,
          526.75,
          464.55000000000007,
          441,
          392,
          311.29999999999995,
          294,
          294,
          294,
          260.3,
          220.5,
          186.54999999999998,
          181.05,
          135.65,
          96.6,
          74,
          73.5,
          55.5,
          55.5,
          49,
          43.6,
          7.8
         ],
         "xaxis": "x",
         "y": [
          0.36599949545703375,
          0.16405411127722277,
          0.3899782230308156,
          0.3966170501233551,
          0.26618589421575123,
          0.30106239596859624,
          0.16566030915427948,
          0.14966554302023932,
          0.3704052458176725,
          0.6556605848544198,
          0.28876529404704515,
          0.26135571174986505,
          0.4917358590143686,
          0.2701911517848872,
          0.45457197725848725,
          0.2819309826358685,
          0.6827459452487665,
          0.23181913264665732,
          0.3570100192445449,
          0.2720601058604853,
          0.4481120922694309,
          0.2536898574487216,
          0.49432689562468257,
          0.31028282778984434,
          0.4908319818132794,
          0.26966347540177954,
          0.27005577326228863,
          0.4423194403566305,
          0.3465546667157629,
          0.17422976058306913,
          0.27414316426731494,
          0.39713672087833385,
          0.3221060523130773,
          0.17878083583454663,
          0.6561443887311588,
          0.28858015570185264,
          0.37809651917924536,
          0.2841886307702076,
          0.2729016311281204,
          0.4381911381900286,
          0.4538240910887122,
          0.4491118140740488,
          0.47127255219690306,
          0.35023605401037794,
          0.26002598289548,
          0.2794818204303726,
          0.49269807618994405,
          0.3523755157194741,
          0.27597286012526034,
          0.46965543852628605,
          0.6407173311189925,
          0.5296189527174856,
          0.1765971790085046,
          0.6261146126539362,
          0.27752870357905224,
          0.6304918065172511,
          0.13450584647079172,
          0.689309872085698,
          0.6389527817932961,
          0.2732248861843452,
          0.5851935068596748,
          0.50007868150307,
          0.3350737315499735,
          0.5466652859279714,
          0.3385078163537207,
          0.2910577332261575,
          0.4829251364747308,
          0.21308987420365638,
          0.29438928025915473,
          0.2815135544018028,
          0.18742940291513552,
          0.2712314798920888,
          0.25943870279856834,
          0.4735252853281978,
          0.3299356954954378,
          0.35555066498213594,
          0.4800018523865822,
          0.4800898606826181,
          0.4362333518586981,
          0.26779924308308733,
          0.4181475183011194,
          0.31204140274007625,
          0.2692563059894653,
          0.31849991748187023,
          0.7708131054112488,
          0.6629153709781422,
          0.5376405998054626,
          0.3013302016309126,
          0.3511144671907947,
          0.203788376251427,
          0.4584642089303917,
          0.463519185241304,
          0.2562373223305425,
          0.2425000276323492,
          0.26237682404068957,
          0.2879234537133705,
          0.33958475331620636,
          0.5666406654316066,
          0.5294893180214284,
          0.31484433662565703,
          0.25865207812215285,
          0.07093414676718235,
          0.4819144827680487,
          0.377498246312927,
          0.2788075819098292,
          0.5734392333156388,
          0.17972416116855855,
          0.3977868615549779,
          0.053948696950944355,
          0.23737099298201833,
          0.5058534865906428,
          0.31092855389639956,
          0.45652712460096007,
          0.34953797126668823,
          0.4349976142864041,
          0.2996251745247555,
          0.3121086035526656,
          0.2728895228865281,
          0.541005465510743,
          0.4642310448444265,
          0.6520228410702813,
          0.28652618476479835,
          0.38468912062606353,
          0.4528928497730074,
          0.4421921991089588,
          0.3721056024028332,
          0.6047191963775084,
          0.29185711053286595,
          0.47390048585352723,
          0.2711549910396698,
          0.441037581013306,
          0.38546034352109154,
          0.38835556683533473,
          0.6041543556608985,
          0.25782013466141906,
          0.3474877594897824,
          0.25146080086152356,
          0.4402744215759798,
          0.25836927538943694,
          0.23090795012953338,
          0.7702365582219199,
          0.5066570778412259,
          0.4353151792936106,
          0.2683457144098354,
          0.2384845419763399,
          0.30554576482923257,
          0.27981223866653,
          0.33300122720325626,
          0.2465745984948405,
          0.4328658705915029,
          0.30525738001204883,
          0.30914471737200344,
          0.37431839847473747,
          0.2673657546745837,
          0.15516106144458633,
          0.33487393021219075,
          0.6632837039829125,
          0.2709445930577139,
          0.29478485482605304,
          0.3461970532497909,
          0.23317582605718198,
          0.3089880880760439,
          0.5415109286665943,
          0.309913998170174,
          0.1677769571639587,
          0.5753873597311816,
          0.524214528289797,
          0.30420582344785113,
          0.25914522885559366,
          0.3157177692960136,
          0.658477508650519,
          0.5327045056867892,
          0.09006880216557635,
          0.529209009330243,
          0.3329812099687338,
          0.27386647191284763,
          0.32777170769329644,
          0.05945945945945946,
          0.31273498646770537,
          0.2664192254339593,
          0.5858727097396332,
          0.059232653061224494,
          0.15567619213063494,
          0.05937575030012005,
          0.5357822492590859,
          0.5649169435215947,
          0.2853514153481865,
          0.05963718820861677,
          0.059336734693877555,
          0.14930934789592032,
          0.0598639455782313,
          0.0598639455782313,
          0.061224489795918366,
          0.45232424126008447,
          0.05995464852607709,
          0.49857946931117664,
          0.5594587130626899,
          0.15495761150018428,
          0.524016563146998,
          0.21445945945945946,
          0.061224489795918366,
          0.059459459459459456,
          0.059459459459459456,
          0.05918367346938775,
          0.22500000000000003,
          0.15384615384615385
         ],
         "yaxis": "y"
        }
       ],
       "layout": {
        "legend": {
         "tracegroupgap": 0
        },
        "margin": {
         "t": 60
        },
        "template": {
         "data": {
          "bar": [
           {
            "error_x": {
             "color": "#2a3f5f"
            },
            "error_y": {
             "color": "#2a3f5f"
            },
            "marker": {
             "line": {
              "color": "#E5ECF6",
              "width": 0.5
             },
             "pattern": {
              "fillmode": "overlay",
              "size": 10,
              "solidity": 0.2
             }
            },
            "type": "bar"
           }
          ],
          "barpolar": [
           {
            "marker": {
             "line": {
              "color": "#E5ECF6",
              "width": 0.5
             },
             "pattern": {
              "fillmode": "overlay",
              "size": 10,
              "solidity": 0.2
             }
            },
            "type": "barpolar"
           }
          ],
          "carpet": [
           {
            "aaxis": {
             "endlinecolor": "#2a3f5f",
             "gridcolor": "white",
             "linecolor": "white",
             "minorgridcolor": "white",
             "startlinecolor": "#2a3f5f"
            },
            "baxis": {
             "endlinecolor": "#2a3f5f",
             "gridcolor": "white",
             "linecolor": "white",
             "minorgridcolor": "white",
             "startlinecolor": "#2a3f5f"
            },
            "type": "carpet"
           }
          ],
          "choropleth": [
           {
            "colorbar": {
             "outlinewidth": 0,
             "ticks": ""
            },
            "type": "choropleth"
           }
          ],
          "contour": [
           {
            "colorbar": {
             "outlinewidth": 0,
             "ticks": ""
            },
            "colorscale": [
             [
              0,
              "#0d0887"
             ],
             [
              0.1111111111111111,
              "#46039f"
             ],
             [
              0.2222222222222222,
              "#7201a8"
             ],
             [
              0.3333333333333333,
              "#9c179e"
             ],
             [
              0.4444444444444444,
              "#bd3786"
             ],
             [
              0.5555555555555556,
              "#d8576b"
             ],
             [
              0.6666666666666666,
              "#ed7953"
             ],
             [
              0.7777777777777778,
              "#fb9f3a"
             ],
             [
              0.8888888888888888,
              "#fdca26"
             ],
             [
              1,
              "#f0f921"
             ]
            ],
            "type": "contour"
           }
          ],
          "contourcarpet": [
           {
            "colorbar": {
             "outlinewidth": 0,
             "ticks": ""
            },
            "type": "contourcarpet"
           }
          ],
          "heatmap": [
           {
            "colorbar": {
             "outlinewidth": 0,
             "ticks": ""
            },
            "colorscale": [
             [
              0,
              "#0d0887"
             ],
             [
              0.1111111111111111,
              "#46039f"
             ],
             [
              0.2222222222222222,
              "#7201a8"
             ],
             [
              0.3333333333333333,
              "#9c179e"
             ],
             [
              0.4444444444444444,
              "#bd3786"
             ],
             [
              0.5555555555555556,
              "#d8576b"
             ],
             [
              0.6666666666666666,
              "#ed7953"
             ],
             [
              0.7777777777777778,
              "#fb9f3a"
             ],
             [
              0.8888888888888888,
              "#fdca26"
             ],
             [
              1,
              "#f0f921"
             ]
            ],
            "type": "heatmap"
           }
          ],
          "heatmapgl": [
           {
            "colorbar": {
             "outlinewidth": 0,
             "ticks": ""
            },
            "colorscale": [
             [
              0,
              "#0d0887"
             ],
             [
              0.1111111111111111,
              "#46039f"
             ],
             [
              0.2222222222222222,
              "#7201a8"
             ],
             [
              0.3333333333333333,
              "#9c179e"
             ],
             [
              0.4444444444444444,
              "#bd3786"
             ],
             [
              0.5555555555555556,
              "#d8576b"
             ],
             [
              0.6666666666666666,
              "#ed7953"
             ],
             [
              0.7777777777777778,
              "#fb9f3a"
             ],
             [
              0.8888888888888888,
              "#fdca26"
             ],
             [
              1,
              "#f0f921"
             ]
            ],
            "type": "heatmapgl"
           }
          ],
          "histogram": [
           {
            "marker": {
             "pattern": {
              "fillmode": "overlay",
              "size": 10,
              "solidity": 0.2
             }
            },
            "type": "histogram"
           }
          ],
          "histogram2d": [
           {
            "colorbar": {
             "outlinewidth": 0,
             "ticks": ""
            },
            "colorscale": [
             [
              0,
              "#0d0887"
             ],
             [
              0.1111111111111111,
              "#46039f"
             ],
             [
              0.2222222222222222,
              "#7201a8"
             ],
             [
              0.3333333333333333,
              "#9c179e"
             ],
             [
              0.4444444444444444,
              "#bd3786"
             ],
             [
              0.5555555555555556,
              "#d8576b"
             ],
             [
              0.6666666666666666,
              "#ed7953"
             ],
             [
              0.7777777777777778,
              "#fb9f3a"
             ],
             [
              0.8888888888888888,
              "#fdca26"
             ],
             [
              1,
              "#f0f921"
             ]
            ],
            "type": "histogram2d"
           }
          ],
          "histogram2dcontour": [
           {
            "colorbar": {
             "outlinewidth": 0,
             "ticks": ""
            },
            "colorscale": [
             [
              0,
              "#0d0887"
             ],
             [
              0.1111111111111111,
              "#46039f"
             ],
             [
              0.2222222222222222,
              "#7201a8"
             ],
             [
              0.3333333333333333,
              "#9c179e"
             ],
             [
              0.4444444444444444,
              "#bd3786"
             ],
             [
              0.5555555555555556,
              "#d8576b"
             ],
             [
              0.6666666666666666,
              "#ed7953"
             ],
             [
              0.7777777777777778,
              "#fb9f3a"
             ],
             [
              0.8888888888888888,
              "#fdca26"
             ],
             [
              1,
              "#f0f921"
             ]
            ],
            "type": "histogram2dcontour"
           }
          ],
          "mesh3d": [
           {
            "colorbar": {
             "outlinewidth": 0,
             "ticks": ""
            },
            "type": "mesh3d"
           }
          ],
          "parcoords": [
           {
            "line": {
             "colorbar": {
              "outlinewidth": 0,
              "ticks": ""
             }
            },
            "type": "parcoords"
           }
          ],
          "pie": [
           {
            "automargin": true,
            "type": "pie"
           }
          ],
          "scatter": [
           {
            "marker": {
             "colorbar": {
              "outlinewidth": 0,
              "ticks": ""
             }
            },
            "type": "scatter"
           }
          ],
          "scatter3d": [
           {
            "line": {
             "colorbar": {
              "outlinewidth": 0,
              "ticks": ""
             }
            },
            "marker": {
             "colorbar": {
              "outlinewidth": 0,
              "ticks": ""
             }
            },
            "type": "scatter3d"
           }
          ],
          "scattercarpet": [
           {
            "marker": {
             "colorbar": {
              "outlinewidth": 0,
              "ticks": ""
             }
            },
            "type": "scattercarpet"
           }
          ],
          "scattergeo": [
           {
            "marker": {
             "colorbar": {
              "outlinewidth": 0,
              "ticks": ""
             }
            },
            "type": "scattergeo"
           }
          ],
          "scattergl": [
           {
            "marker": {
             "colorbar": {
              "outlinewidth": 0,
              "ticks": ""
             }
            },
            "type": "scattergl"
           }
          ],
          "scattermapbox": [
           {
            "marker": {
             "colorbar": {
              "outlinewidth": 0,
              "ticks": ""
             }
            },
            "type": "scattermapbox"
           }
          ],
          "scatterpolar": [
           {
            "marker": {
             "colorbar": {
              "outlinewidth": 0,
              "ticks": ""
             }
            },
            "type": "scatterpolar"
           }
          ],
          "scatterpolargl": [
           {
            "marker": {
             "colorbar": {
              "outlinewidth": 0,
              "ticks": ""
             }
            },
            "type": "scatterpolargl"
           }
          ],
          "scatterternary": [
           {
            "marker": {
             "colorbar": {
              "outlinewidth": 0,
              "ticks": ""
             }
            },
            "type": "scatterternary"
           }
          ],
          "surface": [
           {
            "colorbar": {
             "outlinewidth": 0,
             "ticks": ""
            },
            "colorscale": [
             [
              0,
              "#0d0887"
             ],
             [
              0.1111111111111111,
              "#46039f"
             ],
             [
              0.2222222222222222,
              "#7201a8"
             ],
             [
              0.3333333333333333,
              "#9c179e"
             ],
             [
              0.4444444444444444,
              "#bd3786"
             ],
             [
              0.5555555555555556,
              "#d8576b"
             ],
             [
              0.6666666666666666,
              "#ed7953"
             ],
             [
              0.7777777777777778,
              "#fb9f3a"
             ],
             [
              0.8888888888888888,
              "#fdca26"
             ],
             [
              1,
              "#f0f921"
             ]
            ],
            "type": "surface"
           }
          ],
          "table": [
           {
            "cells": {
             "fill": {
              "color": "#EBF0F8"
             },
             "line": {
              "color": "white"
             }
            },
            "header": {
             "fill": {
              "color": "#C8D4E3"
             },
             "line": {
              "color": "white"
             }
            },
            "type": "table"
           }
          ]
         },
         "layout": {
          "annotationdefaults": {
           "arrowcolor": "#2a3f5f",
           "arrowhead": 0,
           "arrowwidth": 1
          },
          "autotypenumbers": "strict",
          "coloraxis": {
           "colorbar": {
            "outlinewidth": 0,
            "ticks": ""
           }
          },
          "colorscale": {
           "diverging": [
            [
             0,
             "#8e0152"
            ],
            [
             0.1,
             "#c51b7d"
            ],
            [
             0.2,
             "#de77ae"
            ],
            [
             0.3,
             "#f1b6da"
            ],
            [
             0.4,
             "#fde0ef"
            ],
            [
             0.5,
             "#f7f7f7"
            ],
            [
             0.6,
             "#e6f5d0"
            ],
            [
             0.7,
             "#b8e186"
            ],
            [
             0.8,
             "#7fbc41"
            ],
            [
             0.9,
             "#4d9221"
            ],
            [
             1,
             "#276419"
            ]
           ],
           "sequential": [
            [
             0,
             "#0d0887"
            ],
            [
             0.1111111111111111,
             "#46039f"
            ],
            [
             0.2222222222222222,
             "#7201a8"
            ],
            [
             0.3333333333333333,
             "#9c179e"
            ],
            [
             0.4444444444444444,
             "#bd3786"
            ],
            [
             0.5555555555555556,
             "#d8576b"
            ],
            [
             0.6666666666666666,
             "#ed7953"
            ],
            [
             0.7777777777777778,
             "#fb9f3a"
            ],
            [
             0.8888888888888888,
             "#fdca26"
            ],
            [
             1,
             "#f0f921"
            ]
           ],
           "sequentialminus": [
            [
             0,
             "#0d0887"
            ],
            [
             0.1111111111111111,
             "#46039f"
            ],
            [
             0.2222222222222222,
             "#7201a8"
            ],
            [
             0.3333333333333333,
             "#9c179e"
            ],
            [
             0.4444444444444444,
             "#bd3786"
            ],
            [
             0.5555555555555556,
             "#d8576b"
            ],
            [
             0.6666666666666666,
             "#ed7953"
            ],
            [
             0.7777777777777778,
             "#fb9f3a"
            ],
            [
             0.8888888888888888,
             "#fdca26"
            ],
            [
             1,
             "#f0f921"
            ]
           ]
          },
          "colorway": [
           "#636efa",
           "#EF553B",
           "#00cc96",
           "#ab63fa",
           "#FFA15A",
           "#19d3f3",
           "#FF6692",
           "#B6E880",
           "#FF97FF",
           "#FECB52"
          ],
          "font": {
           "color": "#2a3f5f"
          },
          "geo": {
           "bgcolor": "white",
           "lakecolor": "white",
           "landcolor": "#E5ECF6",
           "showlakes": true,
           "showland": true,
           "subunitcolor": "white"
          },
          "hoverlabel": {
           "align": "left"
          },
          "hovermode": "closest",
          "mapbox": {
           "style": "light"
          },
          "paper_bgcolor": "white",
          "plot_bgcolor": "#E5ECF6",
          "polar": {
           "angularaxis": {
            "gridcolor": "white",
            "linecolor": "white",
            "ticks": ""
           },
           "bgcolor": "#E5ECF6",
           "radialaxis": {
            "gridcolor": "white",
            "linecolor": "white",
            "ticks": ""
           }
          },
          "scene": {
           "xaxis": {
            "backgroundcolor": "#E5ECF6",
            "gridcolor": "white",
            "gridwidth": 2,
            "linecolor": "white",
            "showbackground": true,
            "ticks": "",
            "zerolinecolor": "white"
           },
           "yaxis": {
            "backgroundcolor": "#E5ECF6",
            "gridcolor": "white",
            "gridwidth": 2,
            "linecolor": "white",
            "showbackground": true,
            "ticks": "",
            "zerolinecolor": "white"
           },
           "zaxis": {
            "backgroundcolor": "#E5ECF6",
            "gridcolor": "white",
            "gridwidth": 2,
            "linecolor": "white",
            "showbackground": true,
            "ticks": "",
            "zerolinecolor": "white"
           }
          },
          "shapedefaults": {
           "line": {
            "color": "#2a3f5f"
           }
          },
          "ternary": {
           "aaxis": {
            "gridcolor": "white",
            "linecolor": "white",
            "ticks": ""
           },
           "baxis": {
            "gridcolor": "white",
            "linecolor": "white",
            "ticks": ""
           },
           "bgcolor": "#E5ECF6",
           "caxis": {
            "gridcolor": "white",
            "linecolor": "white",
            "ticks": ""
           }
          },
          "title": {
           "x": 0.05
          },
          "xaxis": {
           "automargin": true,
           "gridcolor": "white",
           "linecolor": "white",
           "ticks": "",
           "title": {
            "standoff": 15
           },
           "zerolinecolor": "white",
           "zerolinewidth": 2
          },
          "yaxis": {
           "automargin": true,
           "gridcolor": "white",
           "linecolor": "white",
           "ticks": "",
           "title": {
            "standoff": 15
           },
           "zerolinecolor": "white",
           "zerolinewidth": 2
          }
         }
        },
        "xaxis": {
         "anchor": "y",
         "domain": [
          0,
          1
         ],
         "title": {
          "text": "UmsatzMIs"
         },
         "type": "log"
        },
        "yaxis": {
         "anchor": "x",
         "domain": [
          0,
          1
         ],
         "title": {
          "text": "DB%"
         }
        }
       }
      }
     },
     "metadata": {},
     "output_type": "display_data"
    }
   ],
   "source": [
    "fig = px.scatter(df_9_non_negative, x = 'UmsatzMIs', y = \"DB%\",log_x = True)\n",
    "fig.show()"
   ]
  },
  {
   "cell_type": "code",
   "execution_count": 378,
   "metadata": {},
   "outputs": [],
   "source": [
    "df10 = pd.pivot_table(df5_opp,index=['YYYY_MM'], values = ['UmsatzMIs', 'DBCHFMIS'], aggfunc = np.sum)\n",
    "df10['DB%'] = df10['DBCHFMIS'] / df10['UmsatzMIs']"
   ]
  },
  {
   "cell_type": "code",
   "execution_count": 379,
   "metadata": {},
   "outputs": [],
   "source": [
    "df11 = pd.pivot_table(df7,index=['YYYY_MM'], values = ['UmsatzMIs', 'DBCHFMIS'], aggfunc = np.sum)\n",
    "df11['DB%'] = df11['DBCHFMIS'] / df11['UmsatzMIs']"
   ]
  },
  {
   "cell_type": "code",
   "execution_count": 380,
   "metadata": {},
   "outputs": [],
   "source": [
    "df12 = pd.pivot_table(df7_non_OPP,index=['YYYY_MM'], values = ['UmsatzMIs', 'DBCHFMIS'], aggfunc = np.sum)\n",
    "df12['DB%'] = df12['DBCHFMIS'] / df12['UmsatzMIs']\n",
    "df12['% Total Umsatz'] = df12['UmsatzMIs'] / df11['UmsatzMIs']"
   ]
  },
  {
   "cell_type": "code",
   "execution_count": 381,
   "metadata": {},
   "outputs": [],
   "source": [
    "df10['% Total Umsatz'] = df10['UmsatzMIs'] / df11['UmsatzMIs']"
   ]
  },
  {
   "cell_type": "code",
   "execution_count": 382,
   "metadata": {},
   "outputs": [],
   "source": [
    "df10 = df10.rename(columns = {'DB%': 'DB% (OPP)', '% Total Umsatz': '% Total Umsatz (OPP)'})\n",
    "df12 = df12.rename(columns = {'DB%': 'DB% (non_OPP)', '% Total Umsatz': '% Total Umsatz (non_OPP)'})\n",
    "df11 = df11.rename(columns = {'DB%': 'DB% (total)'})"
   ]
  },
  {
   "cell_type": "code",
   "execution_count": 398,
   "metadata": {},
   "outputs": [],
   "source": [
    "df13 = pd.concat([df10, df12, df11], axis = 1)\n",
    "df13 = df13[['DB% (OPP)', 'DB% (non_OPP)', 'DB% (total)', '% Total Umsatz (OPP)', '% Total Umsatz (non_OPP)']]"
   ]
  },
  {
   "cell_type": "code",
   "execution_count": 400,
   "metadata": {},
   "outputs": [
    {
     "data": {
      "text/html": [
       "<div>\n",
       "<style scoped>\n",
       "    .dataframe tbody tr th:only-of-type {\n",
       "        vertical-align: middle;\n",
       "    }\n",
       "\n",
       "    .dataframe tbody tr th {\n",
       "        vertical-align: top;\n",
       "    }\n",
       "\n",
       "    .dataframe thead th {\n",
       "        text-align: right;\n",
       "    }\n",
       "</style>\n",
       "<table border=\"1\" class=\"dataframe\">\n",
       "  <thead>\n",
       "    <tr style=\"text-align: right;\">\n",
       "      <th></th>\n",
       "      <th>DB% (OPP)</th>\n",
       "      <th>DB% (non_OPP)</th>\n",
       "      <th>DB% (total)</th>\n",
       "      <th>% Total Umsatz (OPP)</th>\n",
       "      <th>% Total Umsatz (non_OPP)</th>\n",
       "    </tr>\n",
       "    <tr>\n",
       "      <th>YYYY_MM</th>\n",
       "      <th></th>\n",
       "      <th></th>\n",
       "      <th></th>\n",
       "      <th></th>\n",
       "      <th></th>\n",
       "    </tr>\n",
       "  </thead>\n",
       "  <tbody>\n",
       "    <tr>\n",
       "      <th>2021-01</th>\n",
       "      <td>0.359864</td>\n",
       "      <td>0.314445</td>\n",
       "      <td>0.324349</td>\n",
       "      <td>0.218069</td>\n",
       "      <td>0.781931</td>\n",
       "    </tr>\n",
       "    <tr>\n",
       "      <th>2021-02</th>\n",
       "      <td>0.348196</td>\n",
       "      <td>0.297627</td>\n",
       "      <td>0.305001</td>\n",
       "      <td>0.145826</td>\n",
       "      <td>0.854174</td>\n",
       "    </tr>\n",
       "    <tr>\n",
       "      <th>2021-03</th>\n",
       "      <td>0.344637</td>\n",
       "      <td>0.283478</td>\n",
       "      <td>0.290600</td>\n",
       "      <td>0.116448</td>\n",
       "      <td>0.883552</td>\n",
       "    </tr>\n",
       "    <tr>\n",
       "      <th>2021-04</th>\n",
       "      <td>0.308530</td>\n",
       "      <td>0.296750</td>\n",
       "      <td>0.298498</td>\n",
       "      <td>0.148346</td>\n",
       "      <td>0.851654</td>\n",
       "    </tr>\n",
       "    <tr>\n",
       "      <th>2021-05</th>\n",
       "      <td>0.352011</td>\n",
       "      <td>0.301226</td>\n",
       "      <td>0.307556</td>\n",
       "      <td>0.124642</td>\n",
       "      <td>0.875358</td>\n",
       "    </tr>\n",
       "    <tr>\n",
       "      <th>2021-06</th>\n",
       "      <td>0.350119</td>\n",
       "      <td>0.386145</td>\n",
       "      <td>0.382509</td>\n",
       "      <td>0.100934</td>\n",
       "      <td>0.899066</td>\n",
       "    </tr>\n",
       "    <tr>\n",
       "      <th>2021-07</th>\n",
       "      <td>0.372651</td>\n",
       "      <td>0.301275</td>\n",
       "      <td>0.309967</td>\n",
       "      <td>0.121780</td>\n",
       "      <td>0.878220</td>\n",
       "    </tr>\n",
       "    <tr>\n",
       "      <th>2021-08</th>\n",
       "      <td>0.361819</td>\n",
       "      <td>0.309553</td>\n",
       "      <td>0.315888</td>\n",
       "      <td>0.121215</td>\n",
       "      <td>0.878785</td>\n",
       "    </tr>\n",
       "    <tr>\n",
       "      <th>2021-09</th>\n",
       "      <td>0.362672</td>\n",
       "      <td>0.298550</td>\n",
       "      <td>0.306052</td>\n",
       "      <td>0.117002</td>\n",
       "      <td>0.882998</td>\n",
       "    </tr>\n",
       "    <tr>\n",
       "      <th>2021-10</th>\n",
       "      <td>0.349514</td>\n",
       "      <td>0.297245</td>\n",
       "      <td>0.303478</td>\n",
       "      <td>0.119260</td>\n",
       "      <td>0.880740</td>\n",
       "    </tr>\n",
       "    <tr>\n",
       "      <th>2021-11</th>\n",
       "      <td>0.347691</td>\n",
       "      <td>0.290645</td>\n",
       "      <td>0.297886</td>\n",
       "      <td>0.126941</td>\n",
       "      <td>0.873059</td>\n",
       "    </tr>\n",
       "    <tr>\n",
       "      <th>2021-12</th>\n",
       "      <td>0.349000</td>\n",
       "      <td>0.281082</td>\n",
       "      <td>0.290784</td>\n",
       "      <td>0.142851</td>\n",
       "      <td>0.857149</td>\n",
       "    </tr>\n",
       "    <tr>\n",
       "      <th>2022-01</th>\n",
       "      <td>0.360308</td>\n",
       "      <td>0.280573</td>\n",
       "      <td>0.291678</td>\n",
       "      <td>0.139268</td>\n",
       "      <td>0.860732</td>\n",
       "    </tr>\n",
       "    <tr>\n",
       "      <th>2022-02</th>\n",
       "      <td>0.345072</td>\n",
       "      <td>0.284934</td>\n",
       "      <td>0.292327</td>\n",
       "      <td>0.122946</td>\n",
       "      <td>0.877054</td>\n",
       "    </tr>\n",
       "    <tr>\n",
       "      <th>2022-03</th>\n",
       "      <td>0.353305</td>\n",
       "      <td>0.296142</td>\n",
       "      <td>0.303462</td>\n",
       "      <td>0.128043</td>\n",
       "      <td>0.871957</td>\n",
       "    </tr>\n",
       "  </tbody>\n",
       "</table>\n",
       "</div>"
      ],
      "text/plain": [
       "         DB% (OPP)  DB% (non_OPP)  DB% (total)  % Total Umsatz (OPP)  \\\n",
       "YYYY_MM                                                                \n",
       "2021-01   0.359864       0.314445     0.324349              0.218069   \n",
       "2021-02   0.348196       0.297627     0.305001              0.145826   \n",
       "2021-03   0.344637       0.283478     0.290600              0.116448   \n",
       "2021-04   0.308530       0.296750     0.298498              0.148346   \n",
       "2021-05   0.352011       0.301226     0.307556              0.124642   \n",
       "2021-06   0.350119       0.386145     0.382509              0.100934   \n",
       "2021-07   0.372651       0.301275     0.309967              0.121780   \n",
       "2021-08   0.361819       0.309553     0.315888              0.121215   \n",
       "2021-09   0.362672       0.298550     0.306052              0.117002   \n",
       "2021-10   0.349514       0.297245     0.303478              0.119260   \n",
       "2021-11   0.347691       0.290645     0.297886              0.126941   \n",
       "2021-12   0.349000       0.281082     0.290784              0.142851   \n",
       "2022-01   0.360308       0.280573     0.291678              0.139268   \n",
       "2022-02   0.345072       0.284934     0.292327              0.122946   \n",
       "2022-03   0.353305       0.296142     0.303462              0.128043   \n",
       "\n",
       "         % Total Umsatz (non_OPP)  \n",
       "YYYY_MM                            \n",
       "2021-01                  0.781931  \n",
       "2021-02                  0.854174  \n",
       "2021-03                  0.883552  \n",
       "2021-04                  0.851654  \n",
       "2021-05                  0.875358  \n",
       "2021-06                  0.899066  \n",
       "2021-07                  0.878220  \n",
       "2021-08                  0.878785  \n",
       "2021-09                  0.882998  \n",
       "2021-10                  0.880740  \n",
       "2021-11                  0.873059  \n",
       "2021-12                  0.857149  \n",
       "2022-01                  0.860732  \n",
       "2022-02                  0.877054  \n",
       "2022-03                  0.871957  "
      ]
     },
     "execution_count": 400,
     "metadata": {},
     "output_type": "execute_result"
    }
   ],
   "source": [
    "df13.to_excel(db_opp_analysis.xlsx)"
   ]
  },
  {
   "cell_type": "code",
   "execution_count": 392,
   "metadata": {},
   "outputs": [
    {
     "data": {
      "application/vnd.plotly.v1+json": {
       "config": {
        "plotlyServerURL": "https://plot.ly"
       },
       "data": [
        {
         "name": "DB% (OPP)",
         "type": "scatter",
         "x": [
          "2021-01",
          "2021-02",
          "2021-03",
          "2021-04",
          "2021-05",
          "2021-06",
          "2021-07",
          "2021-08",
          "2021-09",
          "2021-10",
          "2021-11",
          "2021-12",
          "2022-01",
          "2022-02",
          "2022-03"
         ],
         "y": [
          0.3598638817688459,
          0.348196433031579,
          0.34463713601189133,
          0.30853030566635314,
          0.3520109910887075,
          0.350119007163064,
          0.37265073007305527,
          0.3618186334393224,
          0.36267243457857085,
          0.3495137930125928,
          0.34769074148813933,
          0.34899961971849175,
          0.3603080828975775,
          0.34507164923836836,
          0.3533054435046827
         ]
        },
        {
         "name": "DB% (non_OPP)",
         "type": "scatter",
         "x": [
          "2021-01",
          "2021-02",
          "2021-03",
          "2021-04",
          "2021-05",
          "2021-06",
          "2021-07",
          "2021-08",
          "2021-09",
          "2021-10",
          "2021-11",
          "2021-12",
          "2022-01",
          "2022-02",
          "2022-03"
         ],
         "y": [
          0.314444806674914,
          0.29762711641464373,
          0.28347791398605,
          0.29675026792682996,
          0.3012258314318365,
          0.3861447385414063,
          0.30127458763541104,
          0.3095529770333942,
          0.2985495403316652,
          0.29724476034927044,
          0.29064491285968963,
          0.28108199257607797,
          0.2805730417162377,
          0.28493381472131396,
          0.29614249829967126
         ]
        },
        {
         "name": "DB% (total)",
         "type": "scatter",
         "x": [
          "2021-01",
          "2021-02",
          "2021-03",
          "2021-04",
          "2021-05",
          "2021-06",
          "2021-07",
          "2021-08",
          "2021-09",
          "2021-10",
          "2021-11",
          "2021-12",
          "2022-01",
          "2022-02",
          "2022-03"
         ],
         "y": [
          0.3243493161798016,
          0.3050014383787127,
          0.2905997931680141,
          0.2984977916227358,
          0.3075557937934883,
          0.38250852616709513,
          0.3099667854137816,
          0.31588836831918654,
          0.3060520364724925,
          0.3034783454374336,
          0.297886382319567,
          0.2907840728184981,
          0.29167760020520367,
          0.29232749318988527,
          0.30346182575352054
         ]
        }
       ],
       "layout": {
        "template": {
         "data": {
          "bar": [
           {
            "error_x": {
             "color": "#2a3f5f"
            },
            "error_y": {
             "color": "#2a3f5f"
            },
            "marker": {
             "line": {
              "color": "#E5ECF6",
              "width": 0.5
             },
             "pattern": {
              "fillmode": "overlay",
              "size": 10,
              "solidity": 0.2
             }
            },
            "type": "bar"
           }
          ],
          "barpolar": [
           {
            "marker": {
             "line": {
              "color": "#E5ECF6",
              "width": 0.5
             },
             "pattern": {
              "fillmode": "overlay",
              "size": 10,
              "solidity": 0.2
             }
            },
            "type": "barpolar"
           }
          ],
          "carpet": [
           {
            "aaxis": {
             "endlinecolor": "#2a3f5f",
             "gridcolor": "white",
             "linecolor": "white",
             "minorgridcolor": "white",
             "startlinecolor": "#2a3f5f"
            },
            "baxis": {
             "endlinecolor": "#2a3f5f",
             "gridcolor": "white",
             "linecolor": "white",
             "minorgridcolor": "white",
             "startlinecolor": "#2a3f5f"
            },
            "type": "carpet"
           }
          ],
          "choropleth": [
           {
            "colorbar": {
             "outlinewidth": 0,
             "ticks": ""
            },
            "type": "choropleth"
           }
          ],
          "contour": [
           {
            "colorbar": {
             "outlinewidth": 0,
             "ticks": ""
            },
            "colorscale": [
             [
              0,
              "#0d0887"
             ],
             [
              0.1111111111111111,
              "#46039f"
             ],
             [
              0.2222222222222222,
              "#7201a8"
             ],
             [
              0.3333333333333333,
              "#9c179e"
             ],
             [
              0.4444444444444444,
              "#bd3786"
             ],
             [
              0.5555555555555556,
              "#d8576b"
             ],
             [
              0.6666666666666666,
              "#ed7953"
             ],
             [
              0.7777777777777778,
              "#fb9f3a"
             ],
             [
              0.8888888888888888,
              "#fdca26"
             ],
             [
              1,
              "#f0f921"
             ]
            ],
            "type": "contour"
           }
          ],
          "contourcarpet": [
           {
            "colorbar": {
             "outlinewidth": 0,
             "ticks": ""
            },
            "type": "contourcarpet"
           }
          ],
          "heatmap": [
           {
            "colorbar": {
             "outlinewidth": 0,
             "ticks": ""
            },
            "colorscale": [
             [
              0,
              "#0d0887"
             ],
             [
              0.1111111111111111,
              "#46039f"
             ],
             [
              0.2222222222222222,
              "#7201a8"
             ],
             [
              0.3333333333333333,
              "#9c179e"
             ],
             [
              0.4444444444444444,
              "#bd3786"
             ],
             [
              0.5555555555555556,
              "#d8576b"
             ],
             [
              0.6666666666666666,
              "#ed7953"
             ],
             [
              0.7777777777777778,
              "#fb9f3a"
             ],
             [
              0.8888888888888888,
              "#fdca26"
             ],
             [
              1,
              "#f0f921"
             ]
            ],
            "type": "heatmap"
           }
          ],
          "heatmapgl": [
           {
            "colorbar": {
             "outlinewidth": 0,
             "ticks": ""
            },
            "colorscale": [
             [
              0,
              "#0d0887"
             ],
             [
              0.1111111111111111,
              "#46039f"
             ],
             [
              0.2222222222222222,
              "#7201a8"
             ],
             [
              0.3333333333333333,
              "#9c179e"
             ],
             [
              0.4444444444444444,
              "#bd3786"
             ],
             [
              0.5555555555555556,
              "#d8576b"
             ],
             [
              0.6666666666666666,
              "#ed7953"
             ],
             [
              0.7777777777777778,
              "#fb9f3a"
             ],
             [
              0.8888888888888888,
              "#fdca26"
             ],
             [
              1,
              "#f0f921"
             ]
            ],
            "type": "heatmapgl"
           }
          ],
          "histogram": [
           {
            "marker": {
             "pattern": {
              "fillmode": "overlay",
              "size": 10,
              "solidity": 0.2
             }
            },
            "type": "histogram"
           }
          ],
          "histogram2d": [
           {
            "colorbar": {
             "outlinewidth": 0,
             "ticks": ""
            },
            "colorscale": [
             [
              0,
              "#0d0887"
             ],
             [
              0.1111111111111111,
              "#46039f"
             ],
             [
              0.2222222222222222,
              "#7201a8"
             ],
             [
              0.3333333333333333,
              "#9c179e"
             ],
             [
              0.4444444444444444,
              "#bd3786"
             ],
             [
              0.5555555555555556,
              "#d8576b"
             ],
             [
              0.6666666666666666,
              "#ed7953"
             ],
             [
              0.7777777777777778,
              "#fb9f3a"
             ],
             [
              0.8888888888888888,
              "#fdca26"
             ],
             [
              1,
              "#f0f921"
             ]
            ],
            "type": "histogram2d"
           }
          ],
          "histogram2dcontour": [
           {
            "colorbar": {
             "outlinewidth": 0,
             "ticks": ""
            },
            "colorscale": [
             [
              0,
              "#0d0887"
             ],
             [
              0.1111111111111111,
              "#46039f"
             ],
             [
              0.2222222222222222,
              "#7201a8"
             ],
             [
              0.3333333333333333,
              "#9c179e"
             ],
             [
              0.4444444444444444,
              "#bd3786"
             ],
             [
              0.5555555555555556,
              "#d8576b"
             ],
             [
              0.6666666666666666,
              "#ed7953"
             ],
             [
              0.7777777777777778,
              "#fb9f3a"
             ],
             [
              0.8888888888888888,
              "#fdca26"
             ],
             [
              1,
              "#f0f921"
             ]
            ],
            "type": "histogram2dcontour"
           }
          ],
          "mesh3d": [
           {
            "colorbar": {
             "outlinewidth": 0,
             "ticks": ""
            },
            "type": "mesh3d"
           }
          ],
          "parcoords": [
           {
            "line": {
             "colorbar": {
              "outlinewidth": 0,
              "ticks": ""
             }
            },
            "type": "parcoords"
           }
          ],
          "pie": [
           {
            "automargin": true,
            "type": "pie"
           }
          ],
          "scatter": [
           {
            "marker": {
             "colorbar": {
              "outlinewidth": 0,
              "ticks": ""
             }
            },
            "type": "scatter"
           }
          ],
          "scatter3d": [
           {
            "line": {
             "colorbar": {
              "outlinewidth": 0,
              "ticks": ""
             }
            },
            "marker": {
             "colorbar": {
              "outlinewidth": 0,
              "ticks": ""
             }
            },
            "type": "scatter3d"
           }
          ],
          "scattercarpet": [
           {
            "marker": {
             "colorbar": {
              "outlinewidth": 0,
              "ticks": ""
             }
            },
            "type": "scattercarpet"
           }
          ],
          "scattergeo": [
           {
            "marker": {
             "colorbar": {
              "outlinewidth": 0,
              "ticks": ""
             }
            },
            "type": "scattergeo"
           }
          ],
          "scattergl": [
           {
            "marker": {
             "colorbar": {
              "outlinewidth": 0,
              "ticks": ""
             }
            },
            "type": "scattergl"
           }
          ],
          "scattermapbox": [
           {
            "marker": {
             "colorbar": {
              "outlinewidth": 0,
              "ticks": ""
             }
            },
            "type": "scattermapbox"
           }
          ],
          "scatterpolar": [
           {
            "marker": {
             "colorbar": {
              "outlinewidth": 0,
              "ticks": ""
             }
            },
            "type": "scatterpolar"
           }
          ],
          "scatterpolargl": [
           {
            "marker": {
             "colorbar": {
              "outlinewidth": 0,
              "ticks": ""
             }
            },
            "type": "scatterpolargl"
           }
          ],
          "scatterternary": [
           {
            "marker": {
             "colorbar": {
              "outlinewidth": 0,
              "ticks": ""
             }
            },
            "type": "scatterternary"
           }
          ],
          "surface": [
           {
            "colorbar": {
             "outlinewidth": 0,
             "ticks": ""
            },
            "colorscale": [
             [
              0,
              "#0d0887"
             ],
             [
              0.1111111111111111,
              "#46039f"
             ],
             [
              0.2222222222222222,
              "#7201a8"
             ],
             [
              0.3333333333333333,
              "#9c179e"
             ],
             [
              0.4444444444444444,
              "#bd3786"
             ],
             [
              0.5555555555555556,
              "#d8576b"
             ],
             [
              0.6666666666666666,
              "#ed7953"
             ],
             [
              0.7777777777777778,
              "#fb9f3a"
             ],
             [
              0.8888888888888888,
              "#fdca26"
             ],
             [
              1,
              "#f0f921"
             ]
            ],
            "type": "surface"
           }
          ],
          "table": [
           {
            "cells": {
             "fill": {
              "color": "#EBF0F8"
             },
             "line": {
              "color": "white"
             }
            },
            "header": {
             "fill": {
              "color": "#C8D4E3"
             },
             "line": {
              "color": "white"
             }
            },
            "type": "table"
           }
          ]
         },
         "layout": {
          "annotationdefaults": {
           "arrowcolor": "#2a3f5f",
           "arrowhead": 0,
           "arrowwidth": 1
          },
          "autotypenumbers": "strict",
          "coloraxis": {
           "colorbar": {
            "outlinewidth": 0,
            "ticks": ""
           }
          },
          "colorscale": {
           "diverging": [
            [
             0,
             "#8e0152"
            ],
            [
             0.1,
             "#c51b7d"
            ],
            [
             0.2,
             "#de77ae"
            ],
            [
             0.3,
             "#f1b6da"
            ],
            [
             0.4,
             "#fde0ef"
            ],
            [
             0.5,
             "#f7f7f7"
            ],
            [
             0.6,
             "#e6f5d0"
            ],
            [
             0.7,
             "#b8e186"
            ],
            [
             0.8,
             "#7fbc41"
            ],
            [
             0.9,
             "#4d9221"
            ],
            [
             1,
             "#276419"
            ]
           ],
           "sequential": [
            [
             0,
             "#0d0887"
            ],
            [
             0.1111111111111111,
             "#46039f"
            ],
            [
             0.2222222222222222,
             "#7201a8"
            ],
            [
             0.3333333333333333,
             "#9c179e"
            ],
            [
             0.4444444444444444,
             "#bd3786"
            ],
            [
             0.5555555555555556,
             "#d8576b"
            ],
            [
             0.6666666666666666,
             "#ed7953"
            ],
            [
             0.7777777777777778,
             "#fb9f3a"
            ],
            [
             0.8888888888888888,
             "#fdca26"
            ],
            [
             1,
             "#f0f921"
            ]
           ],
           "sequentialminus": [
            [
             0,
             "#0d0887"
            ],
            [
             0.1111111111111111,
             "#46039f"
            ],
            [
             0.2222222222222222,
             "#7201a8"
            ],
            [
             0.3333333333333333,
             "#9c179e"
            ],
            [
             0.4444444444444444,
             "#bd3786"
            ],
            [
             0.5555555555555556,
             "#d8576b"
            ],
            [
             0.6666666666666666,
             "#ed7953"
            ],
            [
             0.7777777777777778,
             "#fb9f3a"
            ],
            [
             0.8888888888888888,
             "#fdca26"
            ],
            [
             1,
             "#f0f921"
            ]
           ]
          },
          "colorway": [
           "#636efa",
           "#EF553B",
           "#00cc96",
           "#ab63fa",
           "#FFA15A",
           "#19d3f3",
           "#FF6692",
           "#B6E880",
           "#FF97FF",
           "#FECB52"
          ],
          "font": {
           "color": "#2a3f5f"
          },
          "geo": {
           "bgcolor": "white",
           "lakecolor": "white",
           "landcolor": "#E5ECF6",
           "showlakes": true,
           "showland": true,
           "subunitcolor": "white"
          },
          "hoverlabel": {
           "align": "left"
          },
          "hovermode": "closest",
          "mapbox": {
           "style": "light"
          },
          "paper_bgcolor": "white",
          "plot_bgcolor": "#E5ECF6",
          "polar": {
           "angularaxis": {
            "gridcolor": "white",
            "linecolor": "white",
            "ticks": ""
           },
           "bgcolor": "#E5ECF6",
           "radialaxis": {
            "gridcolor": "white",
            "linecolor": "white",
            "ticks": ""
           }
          },
          "scene": {
           "xaxis": {
            "backgroundcolor": "#E5ECF6",
            "gridcolor": "white",
            "gridwidth": 2,
            "linecolor": "white",
            "showbackground": true,
            "ticks": "",
            "zerolinecolor": "white"
           },
           "yaxis": {
            "backgroundcolor": "#E5ECF6",
            "gridcolor": "white",
            "gridwidth": 2,
            "linecolor": "white",
            "showbackground": true,
            "ticks": "",
            "zerolinecolor": "white"
           },
           "zaxis": {
            "backgroundcolor": "#E5ECF6",
            "gridcolor": "white",
            "gridwidth": 2,
            "linecolor": "white",
            "showbackground": true,
            "ticks": "",
            "zerolinecolor": "white"
           }
          },
          "shapedefaults": {
           "line": {
            "color": "#2a3f5f"
           }
          },
          "ternary": {
           "aaxis": {
            "gridcolor": "white",
            "linecolor": "white",
            "ticks": ""
           },
           "baxis": {
            "gridcolor": "white",
            "linecolor": "white",
            "ticks": ""
           },
           "bgcolor": "#E5ECF6",
           "caxis": {
            "gridcolor": "white",
            "linecolor": "white",
            "ticks": ""
           }
          },
          "title": {
           "x": 0.05
          },
          "xaxis": {
           "automargin": true,
           "gridcolor": "white",
           "linecolor": "white",
           "ticks": "",
           "title": {
            "standoff": 15
           },
           "zerolinecolor": "white",
           "zerolinewidth": 2
          },
          "yaxis": {
           "automargin": true,
           "gridcolor": "white",
           "linecolor": "white",
           "ticks": "",
           "title": {
            "standoff": 15
           },
           "zerolinecolor": "white",
           "zerolinewidth": 2
          }
         }
        },
        "xaxis": {
         "anchor": "y",
         "domain": [
          0,
          1
         ]
        },
        "yaxis": {
         "anchor": "x",
         "domain": [
          0,
          1
         ]
        }
       }
      }
     },
     "metadata": {},
     "output_type": "display_data"
    }
   ],
   "source": [
    "df14 = df13.reset_index()\n",
    "fig2 = make_subplots(specs = [[{'secondary_y': False}]])\n",
    "fig2.add_trace(\n",
    "    go.Scatter(x = df14['YYYY_MM'], y = df14['DB% (OPP)'], name = 'DB% (OPP)')\n",
    ")\n",
    "fig2.add_trace(\n",
    "    go.Scatter(x = df14['YYYY_MM'], y = df14['DB% (non_OPP)'], name = 'DB% (non_OPP)')\n",
    ")\n",
    "fig2.add_trace(\n",
    "    go.Scatter(x = df14['YYYY_MM'], y = df14['DB% (total)'], name = 'DB% (total)')\n",
    ")\n",
    "fig2.show()"
   ]
  },
  {
   "cell_type": "code",
   "execution_count": null,
   "metadata": {},
   "outputs": [],
   "source": []
  },
  {
   "cell_type": "code",
   "execution_count": null,
   "metadata": {},
   "outputs": [],
   "source": []
  }
 ],
 "metadata": {
  "interpreter": {
   "hash": "ade3f2b709487e643a0f0e284df071422e023530df3f3b542865423766a1127a"
  },
  "kernelspec": {
   "display_name": "Python 3.8.3 ('base')",
   "language": "python",
   "name": "python3"
  },
  "language_info": {
   "codemirror_mode": {
    "name": "ipython",
    "version": 3
   },
   "file_extension": ".py",
   "mimetype": "text/x-python",
   "name": "python",
   "nbconvert_exporter": "python",
   "pygments_lexer": "ipython3",
   "version": "3.8.3"
  },
  "orig_nbformat": 4
 },
 "nbformat": 4,
 "nbformat_minor": 2
}
