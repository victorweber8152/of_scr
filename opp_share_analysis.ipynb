{
 "cells": [
  {
   "cell_type": "code",
   "execution_count": null,
   "metadata": {},
   "outputs": [],
   "source": [
    "%pip install pyodbc"
   ]
  },
  {
   "cell_type": "code",
   "execution_count": null,
   "metadata": {},
   "outputs": [],
   "source": [
    "%pip install plotly==5.6.0"
   ]
  },
  {
   "cell_type": "code",
   "execution_count": null,
   "metadata": {},
   "outputs": [],
   "source": [
    "import pyodbc\n",
    "import pandas as pd\n",
    "import numpy as np\n",
    "import plotly.express as px\n",
    "import plotly.graph_objects as go\n",
    "from plotly.subplots import make_subplots"
   ]
  },
  {
   "cell_type": "code",
   "execution_count": null,
   "metadata": {},
   "outputs": [],
   "source": [
    "conn = pyodbc.connect('#see pyodbc documentation')"
   ]
  },
  {
   "cell_type": "code",
   "execution_count": null,
   "metadata": {},
   "outputs": [],
   "source": [
    "#think before running (download time > 6 min)\n",
    "cursor = conn.cursor()\n",
    "query = \"SELECT * FROM table\"\n",
    "df = pd.read_sql(query, conn)"
   ]
  },
  {
   "cell_type": "code",
   "execution_count": null,
   "metadata": {},
   "outputs": [],
   "source": [
    "#df.to_csv('year_to_date.csv')\n",
    "#df = pd.read_csv('year_to_date.csv')"
   ]
  },
  {
   "cell_type": "code",
   "execution_count": null,
   "metadata": {},
   "outputs": [],
   "source": [
    "df_opp = pd.read_excel('OPP_unique.xlsx')"
   ]
  },
  {
   "cell_type": "code",
   "execution_count": null,
   "metadata": {},
   "outputs": [],
   "source": [
    "df_opp['ArtNr'] = df_opp['ArtNr'].astype('int64')"
   ]
  },
  {
   "cell_type": "code",
   "execution_count": null,
   "metadata": {},
   "outputs": [],
   "source": [
    "df2 = df[(df['DokDatum'] > '2021-01-01') & (df['DokDatum'] < '2022-03-31')]\n",
    "df2['DokDatum'] = pd.to_datetime(df2['DokDatum'], format = '%Y-%m-%d')\n",
    "df2['YYYY_MM'] = pd.to_datetime(df2['DokDatum']).dt.strftime('%Y-%m')"
   ]
  },
  {
   "cell_type": "code",
   "execution_count": null,
   "metadata": {},
   "outputs": [],
   "source": [
    "df3 = df2[df2['DokStufe'] == '4']"
   ]
  },
  {
   "cell_type": "code",
   "execution_count": null,
   "metadata": {},
   "outputs": [],
   "source": [
    "df4 = df3[df3['Artikelnummer'].str.isnumeric()]\n",
    "df6 = df3[df3['Artikelnummer'].str.isnumeric() == False]"
   ]
  },
  {
   "cell_type": "code",
   "execution_count": null,
   "metadata": {},
   "outputs": [],
   "source": [
    "df4['Artikelnummer'] = df4['Artikelnummer'].astype('int64')"
   ]
  },
  {
   "cell_type": "code",
   "execution_count": null,
   "metadata": {},
   "outputs": [],
   "source": [
    "df5 = df4.merge(df_opp, how = 'left', left_on = 'Artikelnummer', right_on = 'ArtNr')"
   ]
  },
  {
   "cell_type": "code",
   "execution_count": null,
   "metadata": {},
   "outputs": [],
   "source": [
    "df5_opp = df4.merge(df_opp, how = 'inner', left_on = 'Artikelnummer', right_on = 'ArtNr')"
   ]
  },
  {
   "cell_type": "code",
   "execution_count": null,
   "metadata": {},
   "outputs": [],
   "source": [
    "df5['DokDatum'] = pd.to_datetime(df5['DokDatum'], format = '%Y-%m-%d')"
   ]
  },
  {
   "cell_type": "code",
   "execution_count": null,
   "metadata": {},
   "outputs": [],
   "source": [
    "df7 = df5.append(df6)"
   ]
  },
  {
   "cell_type": "code",
   "execution_count": null,
   "metadata": {},
   "outputs": [],
   "source": [
    "df7['OPP'] = df7['OPP'].fillna('Non_OPP')"
   ]
  },
  {
   "cell_type": "code",
   "execution_count": null,
   "metadata": {},
   "outputs": [],
   "source": [
    "df7_non_OPP = df7[df7['OPP'] =='Non_OPP']"
   ]
  },
  {
   "cell_type": "code",
   "execution_count": null,
   "metadata": {},
   "outputs": [],
   "source": [
    "df8 = pd.pivot_table(df7,index=['DokADSachbearbeiterName', 'OPP'], values = ['UmsatzMIs', 'DBCHFMIS'], aggfunc = np.sum)"
   ]
  },
  {
   "cell_type": "code",
   "execution_count": null,
   "metadata": {},
   "outputs": [],
   "source": [
    "df8['DB%'] = df8['DBCHFMIS'] / df8['UmsatzMIs'] "
   ]
  },
  {
   "cell_type": "code",
   "execution_count": null,
   "metadata": {},
   "outputs": [],
   "source": [
    "df8.to_excel('aussendienst_opp_analysis.xlsx')"
   ]
  },
  {
   "cell_type": "code",
   "execution_count": null,
   "metadata": {},
   "outputs": [],
   "source": [
    "df9 = pd.pivot_table(df5_opp,index=['Artikelnummer', 'Art.Bezeichnung'], values = ['UmsatzMIs', 'DBCHFMIS'], aggfunc = np.sum)"
   ]
  },
  {
   "cell_type": "code",
   "execution_count": null,
   "metadata": {},
   "outputs": [],
   "source": [
    "df9['DB%'] = df9['DBCHFMIS'] / df9['UmsatzMIs']"
   ]
  },
  {
   "cell_type": "code",
   "execution_count": null,
   "metadata": {},
   "outputs": [],
   "source": [
    "fig = px.scatter(df_9_non_negative, x = 'UmsatzMIs', y = \"DB%\",log_x = True)\n",
    "fig.show()"
   ]
  },
  {
   "cell_type": "code",
   "execution_count": null,
   "metadata": {},
   "outputs": [],
   "source": [
    "df10 = pd.pivot_table(df5_opp,index=['YYYY_MM'], values = ['UmsatzMIs', 'DBCHFMIS'], aggfunc = np.sum)\n",
    "df10['DB%'] = df10['DBCHFMIS'] / df10['UmsatzMIs']"
   ]
  },
  {
   "cell_type": "code",
   "execution_count": null,
   "metadata": {},
   "outputs": [],
   "source": [
    "df11 = pd.pivot_table(df7,index=['YYYY_MM'], values = ['UmsatzMIs', 'DBCHFMIS'], aggfunc = np.sum)\n",
    "df11['DB%'] = df11['DBCHFMIS'] / df11['UmsatzMIs']"
   ]
  },
  {
   "cell_type": "code",
   "execution_count": null,
   "metadata": {},
   "outputs": [],
   "source": [
    "df12 = pd.pivot_table(df7_non_OPP,index=['YYYY_MM'], values = ['UmsatzMIs', 'DBCHFMIS'], aggfunc = np.sum)\n",
    "df12['DB%'] = df12['DBCHFMIS'] / df12['UmsatzMIs']\n",
    "df12['% Total Umsatz'] = df12['UmsatzMIs'] / df11['UmsatzMIs']"
   ]
  },
  {
   "cell_type": "code",
   "execution_count": null,
   "metadata": {},
   "outputs": [],
   "source": [
    "df10['% Total Umsatz'] = df10['UmsatzMIs'] / df11['UmsatzMIs']"
   ]
  },
  {
   "cell_type": "code",
   "execution_count": null,
   "metadata": {},
   "outputs": [],
   "source": [
    "df10 = df10.rename(columns = {'DB%': 'DB% (OPP)', '% Total Umsatz': '% Total Umsatz (OPP)'})\n",
    "df12 = df12.rename(columns = {'DB%': 'DB% (non_OPP)', '% Total Umsatz': '% Total Umsatz (non_OPP)'})\n",
    "df11 = df11.rename(columns = {'DB%': 'DB% (total)'})"
   ]
  },
  {
   "cell_type": "code",
   "execution_count": null,
   "metadata": {},
   "outputs": [],
   "source": [
    "df13 = pd.concat([df10, df12, df11], axis = 1)\n",
    "df13 = df13[['DB% (OPP)', 'DB% (non_OPP)', 'DB% (total)', '% Total Umsatz (OPP)', '% Total Umsatz (non_OPP)']]"
   ]
  },
  {
   "cell_type": "code",
   "execution_count": null,
   "metadata": {},
   "outputs": [],
   "source": [
    "df13.to_excel(db_opp_analysis.xlsx)"
   ]
  },
  {
   "cell_type": "code",
   "execution_count": null,
   "metadata": {},
   "outputs": [],
   "source": [
    "df14 = df13.reset_index()\n",
    "fig2 = make_subplots(specs = [[{'secondary_y': False}]])\n",
    "fig2.add_trace(\n",
    "    go.Scatter(x = df14['YYYY_MM'], y = df14['DB% (OPP)'], name = 'DB% (OPP)')\n",
    ")\n",
    "fig2.add_trace(\n",
    "    go.Scatter(x = df14['YYYY_MM'], y = df14['DB% (non_OPP)'], name = 'DB% (non_OPP)')\n",
    ")\n",
    "fig2.add_trace(\n",
    "    go.Scatter(x = df14['YYYY_MM'], y = df14['DB% (total)'], name = 'DB% (total)')\n",
    ")\n",
    "fig2.show()"
   ]
  },
  {
   "cell_type": "code",
   "execution_count": null,
   "metadata": {},
   "outputs": [],
   "source": []
  },
  {
   "cell_type": "code",
   "execution_count": null,
   "metadata": {},
   "outputs": [],
   "source": []
  }
 ],
 "metadata": {
  "interpreter": {
   "hash": "ade3f2b709487e643a0f0e284df071422e023530df3f3b542865423766a1127a"
  },
  "kernelspec": {
   "display_name": "Python 3.8.3 ('base')",
   "language": "python",
   "name": "python3"
  },
  "language_info": {
   "codemirror_mode": {
    "name": "ipython",
    "version": 3
   },
   "file_extension": ".py",
   "mimetype": "text/x-python",
   "name": "python",
   "nbconvert_exporter": "python",
   "pygments_lexer": "ipython3",
   "version": "3.8.3"
  },
  "orig_nbformat": 4
 },
 "nbformat": 4,
 "nbformat_minor": 2
}
